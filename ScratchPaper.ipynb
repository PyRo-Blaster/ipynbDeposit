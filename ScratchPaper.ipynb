{
 "cells": [
  {
   "cell_type": "code",
   "execution_count": 1,
   "source": [
    "import msoffcrypto as mso\r\n",
    "\r\n",
    "LOCAL_PATH = r\"C:\\\\Users\\\\zls\\\\Desktop\\\\{}\"\r\n",
    "file_name = \"2021.docx\"\r\n",
    "doc_path = LOCAL_PATH.format(str(file_name))\r\n",
    "\r\n",
    "encrypted = open(doc_path, \"rb\")\r\n",
    "file = mso.OfficeFile(encrypted)\r\n",
    "file.load_key(password=\"13148422\")\r\n",
    "\r\n",
    "with open(LOCAL_PATH.format(str(\"decrypted.docx\")), \"wb\") as f:\r\n",
    "    file.decrypt(f)\r\n",
    "\r\n",
    "\r\n",
    "encrypted.close()"
   ],
   "outputs": [],
   "metadata": {}
  },
  {
   "cell_type": "code",
   "execution_count": 4,
   "source": [
    "from docx import Document\r\n",
    "document = Document(LOCAL_PATH.format(str(\"decrypted.docx\")))\r\n",
    "\r\n",
    "for p in document.paragraphs:\r\n",
    "    print(p.text)\r\n",
    "    print(type(p.text))"
   ],
   "outputs": [
    {
     "output_type": "stream",
     "name": "stdout",
     "text": [
      "2021\n",
      "<class 'str'>\n",
      "Quite a surprise to find him still a postdoc.\n",
      "<class 'str'>\n"
     ]
    }
   ],
   "metadata": {}
  },
  {
   "cell_type": "code",
   "execution_count": 5,
   "source": [
    "# 不传参的函数\r\n",
    "def logger(func):\r\n",
    "    def wrapper(*args, **kwargs):\r\n",
    "        print('Prepare to execute: {} function.'.format(func.__name__))\r\n",
    "\r\n",
    "        func(*args, **kwargs)\r\n",
    "\r\n",
    "        print('Executed, now closing.')\r\n",
    "    return wrapper\r\n",
    "\r\n",
    "@logger\r\n",
    "def add(x, y):\r\n",
    "    print(\"{} + {} = {}\".format(x, y, x+y))\r\n",
    "\r\n",
    "add(200, 50)"
   ],
   "outputs": [
    {
     "output_type": "stream",
     "name": "stdout",
     "text": [
      "Prepare to execute: add function.\n",
      "200 + 50 = 250\n",
      "Executed, now closing.\n"
     ]
    }
   ],
   "metadata": {}
  },
  {
   "cell_type": "code",
   "execution_count": 7,
   "source": [
    "# 带传参的装饰器\r\n",
    "def say_hello(country):\r\n",
    "    def wrapper(func):\r\n",
    "        def deco(*args, **kwargs):\r\n",
    "            if country == 'china':\r\n",
    "                print('您好！')\r\n",
    "            elif country == 'america':\r\n",
    "                print('Hello！')\r\n",
    "            else:\r\n",
    "                return\r\n",
    "            \r\n",
    "            func(*args, **kwargs)\r\n",
    "        return deco\r\n",
    "    return wrapper\r\n",
    "\r\n",
    "@say_hello(\"china\")\r\n",
    "def xiaoming():\r\n",
    "    pass\r\n",
    "\r\n",
    "@say_hello(\"america\")\r\n",
    "def jack():\r\n",
    "    pass\r\n",
    "\r\n",
    "xiaoming()\r\n",
    "print('=='*30)\r\n",
    "jack()"
   ],
   "outputs": [
    {
     "output_type": "stream",
     "name": "stdout",
     "text": [
      "您好！\n",
      "============================================================\n",
      "Hello！\n"
     ]
    }
   ],
   "metadata": {}
  },
  {
   "cell_type": "code",
   "execution_count": 9,
   "source": [
    "# 不带参数的类装饰器\r\n",
    "\r\n",
    "class logger(object):\r\n",
    "    def __init__(self, func): # init传入函数\r\n",
    "        self.func = func\r\n",
    "\r\n",
    "    def __call__(self, *args, **kwargs): # 实现装饰逻辑\r\n",
    "        print(\"[INFO]: the function {func}() is running...\".format(func=self.func.__name__))\r\n",
    "        return self.func(*args, **kwargs)\r\n",
    "\r\n",
    "@logger\r\n",
    "def say(something):\r\n",
    "    print(\"Say {}\".format(something))\r\n",
    "\r\n",
    "say(\"WHAT!!\")"
   ],
   "outputs": [
    {
     "output_type": "stream",
     "name": "stdout",
     "text": [
      "[INFO]: the function say() is running...\n",
      "Say WHAT!!\n"
     ]
    }
   ],
   "metadata": {}
  },
  {
   "cell_type": "code",
   "execution_count": 12,
   "source": [
    "# 带传参的类装饰器有所不同\r\n",
    "\r\n",
    "class logger(object):\r\n",
    "    def __init__(self, level = 'INFO'): # init不再传函数，改为传参\r\n",
    "        self.level = level\r\n",
    "    \r\n",
    "    def __call__(self, func): # 传函数\r\n",
    "        def wrapper(*args, **kwargs):\r\n",
    "            print(\"[{level}]: the function {func}() is running...\".format(level=self.level, func=func.__name__))\r\n",
    "            func(*args, **kwargs)\r\n",
    "        return wrapper # 返回函数\r\n",
    "\r\n",
    "@logger(level='WARNING')\r\n",
    "def say(something):\r\n",
    "    print(\"Say {}\".format(something))\r\n",
    "\r\n",
    "say(\"Something Wrong.\")"
   ],
   "outputs": [
    {
     "output_type": "stream",
     "name": "stdout",
     "text": [
      "[WARNING]: the function say() is running...\n",
      "Say Something Wrong.\n"
     ]
    }
   ],
   "metadata": {}
  },
  {
   "cell_type": "code",
   "execution_count": 17,
   "source": [
    "# 使用functools里的偏函数\r\n",
    "\r\n",
    "import time\r\n",
    "import functools\r\n",
    "\r\n",
    "class DelayFunc:\r\n",
    "    def __init__(self, duration, func): # init同时传参和函数\r\n",
    "        self.duration = duration\r\n",
    "        self.func = func\r\n",
    "\r\n",
    "    def __call__(self, *args, **kwargs):\r\n",
    "        print(f'Wait for {self.duration} seconds...')\r\n",
    "        time.sleep(self.duration)\r\n",
    "        return self.func(*args, **kwargs)\r\n",
    "\r\n",
    "    def emerg_call(self, *args, **kwargs):\r\n",
    "        print('Call Immediately!')\r\n",
    "        return self.func(*args, **kwargs)\r\n",
    "\r\n",
    "def delay(duration):\r\n",
    "    \"\"\"\r\n",
    "    装饰器：推迟某个函数的执行\r\n",
    "    同时也有emerg_call立刻执行的方法\r\n",
    "    \"\"\"\r\n",
    "    # 此处为了避免定义额外函数，直接使用functools.partial帮助构造DelayFunc实例\r\n",
    "    return functools.partial(DelayFunc, duration)\r\n",
    "\r\n",
    "@delay(duration=2)\r\n",
    "def add(a, b):\r\n",
    "    return a+b\r\n",
    "\r\n",
    "add(3,5)\r\n",
    "add.func"
   ],
   "outputs": [
    {
     "output_type": "stream",
     "name": "stdout",
     "text": [
      "Wait for 2 seconds...\n"
     ]
    },
    {
     "output_type": "execute_result",
     "data": {
      "text/plain": [
       "<function __main__.add(a, b)>"
      ]
     },
     "metadata": {},
     "execution_count": 17
    }
   ],
   "metadata": {}
  },
  {
   "cell_type": "code",
   "execution_count": 20,
   "source": [
    "# 装饰类的装饰器\r\n",
    "\r\n",
    "instances = {}\r\n",
    "def singleton(cls):\r\n",
    "    def get_instance(*args, **kwargs):\r\n",
    "        cls_name = cls.__name__\r\n",
    "        print('Name Acquired.')\r\n",
    "        if not cls.__name__ in instances:\r\n",
    "            print('Not retrieved')\r\n",
    "            instance = cls(*args, **kwargs)\r\n",
    "            instances[cls_name] = instance\r\n",
    "        return instances[cls_name]\r\n",
    "    return get_instance\r\n",
    "\r\n",
    "@singleton\r\n",
    "class User:\r\n",
    "    _instance = None\r\n",
    "\r\n",
    "    def __init__(self, name):\r\n",
    "        print('Initializing User')\r\n",
    "        self.name = name\r\n",
    "\r\n",
    "u1 = User('A')"
   ],
   "outputs": [
    {
     "output_type": "stream",
     "name": "stdout",
     "text": [
      "Name Acquired.\n",
      "Not retrieved\n",
      "Initializing User\n"
     ]
    }
   ],
   "metadata": {}
  }
 ],
 "metadata": {
  "orig_nbformat": 4,
  "language_info": {
   "name": "python",
   "version": "3.9.6",
   "mimetype": "text/x-python",
   "codemirror_mode": {
    "name": "ipython",
    "version": 3
   },
   "pygments_lexer": "ipython3",
   "nbconvert_exporter": "python",
   "file_extension": ".py"
  },
  "kernelspec": {
   "name": "python3",
   "display_name": "Python 3.9.6 64-bit"
  },
  "interpreter": {
   "hash": "df7b88440848682f5d4b50fc9785482bcee48b9406c02e33ca19a2b55c4325cc"
  }
 },
 "nbformat": 4,
 "nbformat_minor": 2
}